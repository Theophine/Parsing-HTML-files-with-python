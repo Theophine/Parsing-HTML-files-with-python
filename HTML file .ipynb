{
 "cells": [
  {
   "cell_type": "code",
   "execution_count": 28,
   "metadata": {},
   "outputs": [],
   "source": [
    "import pandas as pd \n",
    "import numpy as np\n",
    "import requests"
   ]
  },
  {
   "cell_type": "code",
   "execution_count": 29,
   "metadata": {},
   "outputs": [],
   "source": [
    "#get the url\n",
    "url = requests.get('https://www.worldcoinindex.com/')"
   ]
  },
  {
   "cell_type": "code",
   "execution_count": 30,
   "metadata": {},
   "outputs": [
    {
     "data": {
      "text/plain": [
       "<Response [200]>"
      ]
     },
     "execution_count": 30,
     "metadata": {},
     "output_type": "execute_result"
    }
   ],
   "source": [
    "#check the response \n",
    "url"
   ]
  },
  {
   "cell_type": "code",
   "execution_count": 31,
   "metadata": {},
   "outputs": [],
   "source": [
    "#get the html code of the website\n",
    "result = url.text"
   ]
  },
  {
   "cell_type": "code",
   "execution_count": 32,
   "metadata": {},
   "outputs": [],
   "source": [
    "#creat you dataframe from the html code of the website of interest \n",
    "df = pd.read_html(result)"
   ]
  },
  {
   "cell_type": "code",
   "execution_count": 34,
   "metadata": {},
   "outputs": [
    {
     "data": {
      "text/plain": [
       "[       # Unnamed: 1         Name Ticker    Last price        %       24 high  \\\n",
       " 0      1        NaN      bitcoin    BTC   $ 7,253.513   +0.71%   $ 7,266.044   \n",
       " 1      2        NaN     ethereum    ETH   $ 132.12937   +1.67%   $ 132.96212   \n",
       " 2      3        NaN     litecoin    LTC   $ 42.290521   +0.68%   $ 42.547199   \n",
       " 3      4        NaN          eos    EOS   $ 2.6239464   +1.62%   $ 2.6350494   \n",
       " 4      5        NaN  bitcoincash    BCH   $ 206.38409   +0.79%   $ 208.49371   \n",
       " ..   ...        ...          ...    ...           ...      ...           ...   \n",
       " 97    96        NaN   adrenaline    ADN  $ 0.00021760   +0.71%  $ 0.00029029   \n",
       " 98    97        NaN         kava   KAVA   $ 1.1017362   -2.49%   $ 1.1520067   \n",
       " 99    98        NaN         icon    ICX  $ 0.11496818   +1.35%  $ 0.11591038   \n",
       " 100   99        NaN        swipe    SXP   $ 1.3436408  +13.44%   $ 1.3562327   \n",
       " 101  100        NaN    gamexcoin    GXC  $ 0.38552423   +3.52%  $ 0.38968959   \n",
       " \n",
       "            24 low Price Charts 7d  24 volume  # Coins Market cap  \n",
       " 0     $ 7,186.601             NaN    $ 5.43B   18.13M  $ 131.54B  \n",
       " 1     $ 129.76983             NaN    $ 4.37B  109.10M   $ 14.41B  \n",
       " 2     $ 41.749571             NaN    $ 1.47B   63.76M    $ 2.69B  \n",
       " 3     $ 2.5778736             NaN  $ 887.99M    1.04B    $ 2.73B  \n",
       " 4     $ 203.99052             NaN  $ 819.32M   18.19M    $ 3.75B  \n",
       " ..            ...             ...        ...      ...        ...  \n",
       " 97   $ 0.00021559             NaN    $ 4.03M      NaN        NaN  \n",
       " 98    $ 1.0778078             NaN    $ 3.94M    6.23M    $ 6.86M  \n",
       " 99   $ 0.11320075             NaN    $ 3.91M  473.40M   $ 54.42M  \n",
       " 100   $ 1.1829290             NaN    $ 3.85M   61.13M   $ 82.14M  \n",
       " 101  $ 0.37078351             NaN    $ 3.75M  726.38M  $ 280.03M  \n",
       " \n",
       " [102 rows x 12 columns]]"
      ]
     },
     "execution_count": 34,
     "metadata": {},
     "output_type": "execute_result"
    }
   ],
   "source": [
    "df"
   ]
  },
  {
   "cell_type": "code",
   "execution_count": 36,
   "metadata": {},
   "outputs": [
    {
     "data": {
      "text/plain": [
       "(1, list)"
      ]
     },
     "execution_count": 36,
     "metadata": {},
     "output_type": "execute_result"
    }
   ],
   "source": [
    "len(df), type(df)"
   ]
  },
  {
   "cell_type": "code",
   "execution_count": 39,
   "metadata": {},
   "outputs": [],
   "source": [
    "#modify the list \n",
    "list_value = df[0].iloc[:, 2:]"
   ]
  },
  {
   "cell_type": "code",
   "execution_count": 40,
   "metadata": {},
   "outputs": [
    {
     "data": {
      "text/html": [
       "<div>\n",
       "<style scoped>\n",
       "    .dataframe tbody tr th:only-of-type {\n",
       "        vertical-align: middle;\n",
       "    }\n",
       "\n",
       "    .dataframe tbody tr th {\n",
       "        vertical-align: top;\n",
       "    }\n",
       "\n",
       "    .dataframe thead th {\n",
       "        text-align: right;\n",
       "    }\n",
       "</style>\n",
       "<table border=\"1\" class=\"dataframe\">\n",
       "  <thead>\n",
       "    <tr style=\"text-align: right;\">\n",
       "      <th></th>\n",
       "      <th>Name</th>\n",
       "      <th>Ticker</th>\n",
       "      <th>Last price</th>\n",
       "      <th>%</th>\n",
       "      <th>24 high</th>\n",
       "      <th>24 low</th>\n",
       "      <th>Price Charts 7d</th>\n",
       "      <th>24 volume</th>\n",
       "      <th># Coins</th>\n",
       "      <th>Market cap</th>\n",
       "    </tr>\n",
       "  </thead>\n",
       "  <tbody>\n",
       "    <tr>\n",
       "      <th>0</th>\n",
       "      <td>bitcoin</td>\n",
       "      <td>BTC</td>\n",
       "      <td>$ 7,253.513</td>\n",
       "      <td>+0.71%</td>\n",
       "      <td>$ 7,266.044</td>\n",
       "      <td>$ 7,186.601</td>\n",
       "      <td>NaN</td>\n",
       "      <td>$ 5.43B</td>\n",
       "      <td>18.13M</td>\n",
       "      <td>$ 131.54B</td>\n",
       "    </tr>\n",
       "    <tr>\n",
       "      <th>1</th>\n",
       "      <td>ethereum</td>\n",
       "      <td>ETH</td>\n",
       "      <td>$ 132.12937</td>\n",
       "      <td>+1.67%</td>\n",
       "      <td>$ 132.96212</td>\n",
       "      <td>$ 129.76983</td>\n",
       "      <td>NaN</td>\n",
       "      <td>$ 4.37B</td>\n",
       "      <td>109.10M</td>\n",
       "      <td>$ 14.41B</td>\n",
       "    </tr>\n",
       "    <tr>\n",
       "      <th>2</th>\n",
       "      <td>litecoin</td>\n",
       "      <td>LTC</td>\n",
       "      <td>$ 42.290521</td>\n",
       "      <td>+0.68%</td>\n",
       "      <td>$ 42.547199</td>\n",
       "      <td>$ 41.749571</td>\n",
       "      <td>NaN</td>\n",
       "      <td>$ 1.47B</td>\n",
       "      <td>63.76M</td>\n",
       "      <td>$ 2.69B</td>\n",
       "    </tr>\n",
       "    <tr>\n",
       "      <th>3</th>\n",
       "      <td>eos</td>\n",
       "      <td>EOS</td>\n",
       "      <td>$ 2.6239464</td>\n",
       "      <td>+1.62%</td>\n",
       "      <td>$ 2.6350494</td>\n",
       "      <td>$ 2.5778736</td>\n",
       "      <td>NaN</td>\n",
       "      <td>$ 887.99M</td>\n",
       "      <td>1.04B</td>\n",
       "      <td>$ 2.73B</td>\n",
       "    </tr>\n",
       "    <tr>\n",
       "      <th>4</th>\n",
       "      <td>bitcoincash</td>\n",
       "      <td>BCH</td>\n",
       "      <td>$ 206.38409</td>\n",
       "      <td>+0.79%</td>\n",
       "      <td>$ 208.49371</td>\n",
       "      <td>$ 203.99052</td>\n",
       "      <td>NaN</td>\n",
       "      <td>$ 819.32M</td>\n",
       "      <td>18.19M</td>\n",
       "      <td>$ 3.75B</td>\n",
       "    </tr>\n",
       "  </tbody>\n",
       "</table>\n",
       "</div>"
      ],
      "text/plain": [
       "          Name Ticker   Last price       %      24 high       24 low  \\\n",
       "0      bitcoin    BTC  $ 7,253.513  +0.71%  $ 7,266.044  $ 7,186.601   \n",
       "1     ethereum    ETH  $ 132.12937  +1.67%  $ 132.96212  $ 129.76983   \n",
       "2     litecoin    LTC  $ 42.290521  +0.68%  $ 42.547199  $ 41.749571   \n",
       "3          eos    EOS  $ 2.6239464  +1.62%  $ 2.6350494  $ 2.5778736   \n",
       "4  bitcoincash    BCH  $ 206.38409  +0.79%  $ 208.49371  $ 203.99052   \n",
       "\n",
       "  Price Charts 7d  24 volume  # Coins Market cap  \n",
       "0             NaN    $ 5.43B   18.13M  $ 131.54B  \n",
       "1             NaN    $ 4.37B  109.10M   $ 14.41B  \n",
       "2             NaN    $ 1.47B   63.76M    $ 2.69B  \n",
       "3             NaN  $ 887.99M    1.04B    $ 2.73B  \n",
       "4             NaN  $ 819.32M   18.19M    $ 3.75B  "
      ]
     },
     "execution_count": 40,
     "metadata": {},
     "output_type": "execute_result"
    }
   ],
   "source": [
    "list_value.head()"
   ]
  },
  {
   "cell_type": "code",
   "execution_count": 41,
   "metadata": {},
   "outputs": [
    {
     "data": {
      "text/plain": [
       "(102, 10)"
      ]
     },
     "execution_count": 41,
     "metadata": {},
     "output_type": "execute_result"
    }
   ],
   "source": [
    "list_value.shape"
   ]
  },
  {
   "cell_type": "code",
   "execution_count": 43,
   "metadata": {},
   "outputs": [],
   "source": [
    "del list_value['Price Charts 7d']"
   ]
  },
  {
   "cell_type": "code",
   "execution_count": 44,
   "metadata": {},
   "outputs": [
    {
     "data": {
      "text/html": [
       "<div>\n",
       "<style scoped>\n",
       "    .dataframe tbody tr th:only-of-type {\n",
       "        vertical-align: middle;\n",
       "    }\n",
       "\n",
       "    .dataframe tbody tr th {\n",
       "        vertical-align: top;\n",
       "    }\n",
       "\n",
       "    .dataframe thead th {\n",
       "        text-align: right;\n",
       "    }\n",
       "</style>\n",
       "<table border=\"1\" class=\"dataframe\">\n",
       "  <thead>\n",
       "    <tr style=\"text-align: right;\">\n",
       "      <th></th>\n",
       "      <th>Name</th>\n",
       "      <th>Ticker</th>\n",
       "      <th>Last price</th>\n",
       "      <th>%</th>\n",
       "      <th>24 high</th>\n",
       "      <th>24 low</th>\n",
       "      <th>24 volume</th>\n",
       "      <th># Coins</th>\n",
       "      <th>Market cap</th>\n",
       "    </tr>\n",
       "  </thead>\n",
       "  <tbody>\n",
       "    <tr>\n",
       "      <th>0</th>\n",
       "      <td>bitcoin</td>\n",
       "      <td>BTC</td>\n",
       "      <td>$ 7,253.513</td>\n",
       "      <td>+0.71%</td>\n",
       "      <td>$ 7,266.044</td>\n",
       "      <td>$ 7,186.601</td>\n",
       "      <td>$ 5.43B</td>\n",
       "      <td>18.13M</td>\n",
       "      <td>$ 131.54B</td>\n",
       "    </tr>\n",
       "    <tr>\n",
       "      <th>1</th>\n",
       "      <td>ethereum</td>\n",
       "      <td>ETH</td>\n",
       "      <td>$ 132.12937</td>\n",
       "      <td>+1.67%</td>\n",
       "      <td>$ 132.96212</td>\n",
       "      <td>$ 129.76983</td>\n",
       "      <td>$ 4.37B</td>\n",
       "      <td>109.10M</td>\n",
       "      <td>$ 14.41B</td>\n",
       "    </tr>\n",
       "    <tr>\n",
       "      <th>2</th>\n",
       "      <td>litecoin</td>\n",
       "      <td>LTC</td>\n",
       "      <td>$ 42.290521</td>\n",
       "      <td>+0.68%</td>\n",
       "      <td>$ 42.547199</td>\n",
       "      <td>$ 41.749571</td>\n",
       "      <td>$ 1.47B</td>\n",
       "      <td>63.76M</td>\n",
       "      <td>$ 2.69B</td>\n",
       "    </tr>\n",
       "    <tr>\n",
       "      <th>3</th>\n",
       "      <td>eos</td>\n",
       "      <td>EOS</td>\n",
       "      <td>$ 2.6239464</td>\n",
       "      <td>+1.62%</td>\n",
       "      <td>$ 2.6350494</td>\n",
       "      <td>$ 2.5778736</td>\n",
       "      <td>$ 887.99M</td>\n",
       "      <td>1.04B</td>\n",
       "      <td>$ 2.73B</td>\n",
       "    </tr>\n",
       "    <tr>\n",
       "      <th>4</th>\n",
       "      <td>bitcoincash</td>\n",
       "      <td>BCH</td>\n",
       "      <td>$ 206.38409</td>\n",
       "      <td>+0.79%</td>\n",
       "      <td>$ 208.49371</td>\n",
       "      <td>$ 203.99052</td>\n",
       "      <td>$ 819.32M</td>\n",
       "      <td>18.19M</td>\n",
       "      <td>$ 3.75B</td>\n",
       "    </tr>\n",
       "  </tbody>\n",
       "</table>\n",
       "</div>"
      ],
      "text/plain": [
       "          Name Ticker   Last price       %      24 high       24 low  \\\n",
       "0      bitcoin    BTC  $ 7,253.513  +0.71%  $ 7,266.044  $ 7,186.601   \n",
       "1     ethereum    ETH  $ 132.12937  +1.67%  $ 132.96212  $ 129.76983   \n",
       "2     litecoin    LTC  $ 42.290521  +0.68%  $ 42.547199  $ 41.749571   \n",
       "3          eos    EOS  $ 2.6239464  +1.62%  $ 2.6350494  $ 2.5778736   \n",
       "4  bitcoincash    BCH  $ 206.38409  +0.79%  $ 208.49371  $ 203.99052   \n",
       "\n",
       "   24 volume  # Coins Market cap  \n",
       "0    $ 5.43B   18.13M  $ 131.54B  \n",
       "1    $ 4.37B  109.10M   $ 14.41B  \n",
       "2    $ 1.47B   63.76M    $ 2.69B  \n",
       "3  $ 887.99M    1.04B    $ 2.73B  \n",
       "4  $ 819.32M   18.19M    $ 3.75B  "
      ]
     },
     "execution_count": 44,
     "metadata": {},
     "output_type": "execute_result"
    }
   ],
   "source": [
    "list_value.head()"
   ]
  },
  {
   "cell_type": "code",
   "execution_count": null,
   "metadata": {},
   "outputs": [],
   "source": []
  }
 ],
 "metadata": {
  "kernelspec": {
   "display_name": "Python [conda env:root] *",
   "language": "python",
   "name": "conda-root-py"
  },
  "language_info": {
   "codemirror_mode": {
    "name": "ipython",
    "version": 3
   },
   "file_extension": ".py",
   "mimetype": "text/x-python",
   "name": "python",
   "nbconvert_exporter": "python",
   "pygments_lexer": "ipython3",
   "version": "3.7.1"
  }
 },
 "nbformat": 4,
 "nbformat_minor": 2
}
